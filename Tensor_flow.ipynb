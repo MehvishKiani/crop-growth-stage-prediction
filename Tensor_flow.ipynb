{
 "cells": [
  {
   "cell_type": "code",
   "execution_count": 13,
   "id": "30795a35",
   "metadata": {},
   "outputs": [],
   "source": [
    "import tensorflow as tf\n",
    "from tensorflow.keras import layers, models\n",
    "import pandas as pd\n",
    "import numpy as np\n",
    "from sklearn.model_selection import train_test_split\n",
    "from sklearn.preprocessing import LabelEncoder"
   ]
  },
  {
   "cell_type": "code",
   "execution_count": 14,
   "id": "75858f0e",
   "metadata": {},
   "outputs": [],
   "source": [
    "# Load the dataset\n",
    "data = pd.read_csv('crop_recommendation.csv')"
   ]
  },
  {
   "cell_type": "code",
   "execution_count": 15,
   "id": "f1d5f75f",
   "metadata": {},
   "outputs": [],
   "source": [
    "# Encode the categorical target variable 'label'\n",
    "label_encoder = LabelEncoder()\n",
    "data['label'] = label_encoder.fit_transform(data['label'])\n",
    "\n",
    "# Split the data into features (X) and target (y)\n",
    "X = data.drop('label', axis=1)  # Features\n",
    "y = data['label']              # Target"
   ]
  },
  {
   "cell_type": "code",
   "execution_count": 16,
   "id": "a226ba03",
   "metadata": {},
   "outputs": [],
   "source": [
    "# Split the data into training and testing sets\n",
    "X_train, X_test, y_train, y_test = train_test_split(X, y, test_size=0.2, random_state=42)\n"
   ]
  },
  {
   "cell_type": "code",
   "execution_count": 17,
   "id": "2c225493",
   "metadata": {},
   "outputs": [],
   "source": [
    "# Build the Sequential model\n",
    "model = models.Sequential([\n",
    "    layers.Dense(128, activation='relu', input_shape=(X_train.shape[1],)),  # Input layer\n",
    "    layers.Dense(64, activation='relu'),                                   # Hidden layer 1\n",
    "    layers.Dense(32, activation='relu'),                                   # Hidden layer 2\n",
    "    layers.Dense(len(np.unique(y)), activation='softmax')                  # Output layer\n",
    "])"
   ]
  },
  {
   "cell_type": "code",
   "execution_count": 18,
   "id": "e552b9aa",
   "metadata": {},
   "outputs": [],
   "source": [
    "# Compile the model\n",
    "model.compile(optimizer='adam',\n",
    "              loss='sparse_categorical_crossentropy',\n",
    "              metrics=['accuracy'])\n"
   ]
  },
  {
   "cell_type": "code",
   "execution_count": 19,
   "id": "9f1bc6d0",
   "metadata": {},
   "outputs": [
    {
     "name": "stdout",
     "output_type": "stream",
     "text": [
      "Epoch 1/50\n",
      "44/44 [==============================] - 1s 8ms/step - loss: 4.7095 - accuracy: 0.1626 - val_loss: 2.4723 - val_accuracy: 0.2642\n",
      "Epoch 2/50\n",
      "44/44 [==============================] - 0s 4ms/step - loss: 2.1066 - accuracy: 0.3764 - val_loss: 1.7296 - val_accuracy: 0.4659\n",
      "Epoch 3/50\n",
      "44/44 [==============================] - 0s 4ms/step - loss: 1.3803 - accuracy: 0.6087 - val_loss: 1.0441 - val_accuracy: 0.7301\n",
      "Epoch 4/50\n",
      "44/44 [==============================] - 0s 4ms/step - loss: 0.7651 - accuracy: 0.7756 - val_loss: 0.4381 - val_accuracy: 0.9062\n",
      "Epoch 5/50\n",
      "44/44 [==============================] - 0s 4ms/step - loss: 0.4049 - accuracy: 0.8771 - val_loss: 0.2942 - val_accuracy: 0.9091\n",
      "Epoch 6/50\n",
      "44/44 [==============================] - 0s 4ms/step - loss: 0.2926 - accuracy: 0.9112 - val_loss: 0.2425 - val_accuracy: 0.9233\n",
      "Epoch 7/50\n",
      "44/44 [==============================] - 0s 4ms/step - loss: 0.2452 - accuracy: 0.9226 - val_loss: 0.2130 - val_accuracy: 0.9290\n",
      "Epoch 8/50\n",
      "44/44 [==============================] - 0s 4ms/step - loss: 0.2251 - accuracy: 0.9290 - val_loss: 0.1750 - val_accuracy: 0.9489\n",
      "Epoch 9/50\n",
      "44/44 [==============================] - 0s 5ms/step - loss: 0.1916 - accuracy: 0.9389 - val_loss: 0.2121 - val_accuracy: 0.9205\n",
      "Epoch 10/50\n",
      "44/44 [==============================] - 0s 5ms/step - loss: 0.1840 - accuracy: 0.9439 - val_loss: 0.1611 - val_accuracy: 0.9489\n",
      "Epoch 11/50\n",
      "44/44 [==============================] - 0s 4ms/step - loss: 0.2390 - accuracy: 0.9212 - val_loss: 0.1561 - val_accuracy: 0.9375\n",
      "Epoch 12/50\n",
      "44/44 [==============================] - 0s 4ms/step - loss: 0.1491 - accuracy: 0.9531 - val_loss: 0.1611 - val_accuracy: 0.9375\n",
      "Epoch 13/50\n",
      "44/44 [==============================] - 0s 7ms/step - loss: 0.1653 - accuracy: 0.9460 - val_loss: 0.1648 - val_accuracy: 0.9347\n",
      "Epoch 14/50\n",
      "44/44 [==============================] - 0s 7ms/step - loss: 0.1534 - accuracy: 0.9432 - val_loss: 0.1504 - val_accuracy: 0.9290\n",
      "Epoch 15/50\n",
      "44/44 [==============================] - 0s 5ms/step - loss: 0.1373 - accuracy: 0.9524 - val_loss: 0.1177 - val_accuracy: 0.9460\n",
      "Epoch 16/50\n",
      "44/44 [==============================] - 0s 7ms/step - loss: 0.1340 - accuracy: 0.9482 - val_loss: 0.1503 - val_accuracy: 0.9460\n",
      "Epoch 17/50\n",
      "44/44 [==============================] - 0s 6ms/step - loss: 0.1504 - accuracy: 0.9439 - val_loss: 0.0924 - val_accuracy: 0.9830\n",
      "Epoch 18/50\n",
      "44/44 [==============================] - 0s 5ms/step - loss: 0.1215 - accuracy: 0.9553 - val_loss: 0.0955 - val_accuracy: 0.9744\n",
      "Epoch 19/50\n",
      "44/44 [==============================] - 0s 5ms/step - loss: 0.1157 - accuracy: 0.9616 - val_loss: 0.0987 - val_accuracy: 0.9659\n",
      "Epoch 20/50\n",
      "44/44 [==============================] - 0s 7ms/step - loss: 0.1014 - accuracy: 0.9638 - val_loss: 0.1153 - val_accuracy: 0.9574\n",
      "Epoch 21/50\n",
      "44/44 [==============================] - 0s 5ms/step - loss: 0.1028 - accuracy: 0.9631 - val_loss: 0.1249 - val_accuracy: 0.9517\n",
      "Epoch 22/50\n",
      "44/44 [==============================] - 0s 7ms/step - loss: 0.1191 - accuracy: 0.9503 - val_loss: 0.1495 - val_accuracy: 0.9403\n",
      "Epoch 23/50\n",
      "44/44 [==============================] - 0s 6ms/step - loss: 0.1398 - accuracy: 0.9453 - val_loss: 0.1666 - val_accuracy: 0.9347\n",
      "Epoch 24/50\n",
      "44/44 [==============================] - 0s 6ms/step - loss: 0.1356 - accuracy: 0.9524 - val_loss: 0.0878 - val_accuracy: 0.9688\n",
      "Epoch 25/50\n",
      "44/44 [==============================] - 0s 6ms/step - loss: 0.1107 - accuracy: 0.9567 - val_loss: 0.1645 - val_accuracy: 0.9318\n",
      "Epoch 26/50\n",
      "44/44 [==============================] - 0s 5ms/step - loss: 0.1017 - accuracy: 0.9631 - val_loss: 0.0995 - val_accuracy: 0.9489\n",
      "Epoch 27/50\n",
      "44/44 [==============================] - 0s 6ms/step - loss: 0.1064 - accuracy: 0.9574 - val_loss: 0.1128 - val_accuracy: 0.9545\n",
      "Epoch 28/50\n",
      "44/44 [==============================] - 0s 6ms/step - loss: 0.1000 - accuracy: 0.9609 - val_loss: 0.0987 - val_accuracy: 0.9602\n",
      "Epoch 29/50\n",
      "44/44 [==============================] - 0s 5ms/step - loss: 0.1004 - accuracy: 0.9638 - val_loss: 0.0899 - val_accuracy: 0.9574\n",
      "Epoch 30/50\n",
      "44/44 [==============================] - 0s 6ms/step - loss: 0.1007 - accuracy: 0.9616 - val_loss: 0.1341 - val_accuracy: 0.9517\n",
      "Epoch 31/50\n",
      "44/44 [==============================] - 0s 5ms/step - loss: 0.0982 - accuracy: 0.9581 - val_loss: 0.0700 - val_accuracy: 0.9716\n",
      "Epoch 32/50\n",
      "44/44 [==============================] - 0s 5ms/step - loss: 0.0960 - accuracy: 0.9602 - val_loss: 0.0935 - val_accuracy: 0.9574\n",
      "Epoch 33/50\n",
      "44/44 [==============================] - 0s 7ms/step - loss: 0.1646 - accuracy: 0.9553 - val_loss: 0.8709 - val_accuracy: 0.8693\n",
      "Epoch 34/50\n",
      "44/44 [==============================] - 0s 6ms/step - loss: 0.1759 - accuracy: 0.9453 - val_loss: 0.0999 - val_accuracy: 0.9659\n",
      "Epoch 35/50\n",
      "44/44 [==============================] - 0s 5ms/step - loss: 0.0912 - accuracy: 0.9624 - val_loss: 0.1394 - val_accuracy: 0.9347\n",
      "Epoch 36/50\n",
      "44/44 [==============================] - 0s 7ms/step - loss: 0.0887 - accuracy: 0.9652 - val_loss: 0.0886 - val_accuracy: 0.9688\n",
      "Epoch 37/50\n",
      "44/44 [==============================] - 0s 6ms/step - loss: 0.0861 - accuracy: 0.9688 - val_loss: 0.0777 - val_accuracy: 0.9801\n",
      "Epoch 38/50\n",
      "44/44 [==============================] - 0s 5ms/step - loss: 0.1023 - accuracy: 0.9595 - val_loss: 0.0783 - val_accuracy: 0.9716\n",
      "Epoch 39/50\n",
      "44/44 [==============================] - 0s 6ms/step - loss: 0.0923 - accuracy: 0.9652 - val_loss: 0.0957 - val_accuracy: 0.9602\n",
      "Epoch 40/50\n",
      "44/44 [==============================] - 0s 5ms/step - loss: 0.0923 - accuracy: 0.9645 - val_loss: 0.0795 - val_accuracy: 0.9659\n",
      "Epoch 41/50\n",
      "44/44 [==============================] - 0s 5ms/step - loss: 0.0948 - accuracy: 0.9624 - val_loss: 0.1503 - val_accuracy: 0.9432\n",
      "Epoch 42/50\n",
      "44/44 [==============================] - 0s 5ms/step - loss: 0.1062 - accuracy: 0.9631 - val_loss: 0.0857 - val_accuracy: 0.9688\n",
      "Epoch 43/50\n",
      "44/44 [==============================] - 0s 6ms/step - loss: 0.0885 - accuracy: 0.9659 - val_loss: 0.0959 - val_accuracy: 0.9602\n",
      "Epoch 44/50\n",
      "44/44 [==============================] - 0s 4ms/step - loss: 0.1124 - accuracy: 0.9560 - val_loss: 0.1017 - val_accuracy: 0.9602\n",
      "Epoch 45/50\n",
      "44/44 [==============================] - 0s 4ms/step - loss: 0.1075 - accuracy: 0.9531 - val_loss: 0.0641 - val_accuracy: 0.9801\n",
      "Epoch 46/50\n",
      "44/44 [==============================] - 0s 4ms/step - loss: 0.0873 - accuracy: 0.9680 - val_loss: 0.1451 - val_accuracy: 0.9489\n",
      "Epoch 47/50\n",
      "44/44 [==============================] - 0s 4ms/step - loss: 0.0941 - accuracy: 0.9645 - val_loss: 0.0931 - val_accuracy: 0.9631\n",
      "Epoch 48/50\n",
      "44/44 [==============================] - 0s 4ms/step - loss: 0.0777 - accuracy: 0.9688 - val_loss: 0.0603 - val_accuracy: 0.9801\n",
      "Epoch 49/50\n",
      "44/44 [==============================] - 0s 4ms/step - loss: 0.0871 - accuracy: 0.9659 - val_loss: 0.1130 - val_accuracy: 0.9574\n",
      "Epoch 50/50\n",
      "44/44 [==============================] - 0s 4ms/step - loss: 0.1123 - accuracy: 0.9560 - val_loss: 0.1062 - val_accuracy: 0.9489\n"
     ]
    }
   ],
   "source": [
    "# Train the model\n",
    "history = model.fit(X_train, y_train, epochs=50, batch_size=32, validation_split=0.2)\n"
   ]
  },
  {
   "cell_type": "code",
   "execution_count": 20,
   "id": "04f50d5e",
   "metadata": {},
   "outputs": [
    {
     "name": "stdout",
     "output_type": "stream",
     "text": [
      "14/14 [==============================] - 0s 3ms/step - loss: 0.1623 - accuracy: 0.9250\n",
      "Test accuracy: 0.93\n"
     ]
    }
   ],
   "source": [
    "# Evaluate the model on the test set\n",
    "test_loss, test_accuracy = model.evaluate(X_test, y_test)\n",
    "print(f'Test accuracy: {test_accuracy:.2f}')\n"
   ]
  },
  {
   "cell_type": "code",
   "execution_count": 21,
   "id": "ed6ffccd",
   "metadata": {},
   "outputs": [
    {
     "name": "stderr",
     "output_type": "stream",
     "text": [
      "G:\\Anaconda\\Lib\\site-packages\\keras\\src\\engine\\training.py:3103: UserWarning: You are saving your model as an HDF5 file via `model.save()`. This file format is considered legacy. We recommend using instead the native Keras format, e.g. `model.save('my_model.keras')`.\n",
      "  saving_api.save_model(\n"
     ]
    }
   ],
   "source": [
    "# Save the model\n",
    "model.save('crop_recommendation_model.h5')\n"
   ]
  },
  {
   "cell_type": "code",
   "execution_count": null,
   "id": "49f49f5e",
   "metadata": {},
   "outputs": [],
   "source": []
  }
 ],
 "metadata": {
  "kernelspec": {
   "display_name": "Python 3 (ipykernel)",
   "language": "python",
   "name": "python3"
  },
  "language_info": {
   "codemirror_mode": {
    "name": "ipython",
    "version": 3
   },
   "file_extension": ".py",
   "mimetype": "text/x-python",
   "name": "python",
   "nbconvert_exporter": "python",
   "pygments_lexer": "ipython3",
   "version": "3.11.4"
  }
 },
 "nbformat": 4,
 "nbformat_minor": 5
}
